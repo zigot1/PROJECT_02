{
 "cells": [
  {
   "cell_type": "code",
   "execution_count": 49,
   "metadata": {},
   "outputs": [],
   "source": [
    "# import dependencies\n",
    "import pandas as pd\n",
    "from sqlalchemy import create_engine\n",
    "import psycopg2"
   ]
  },
  {
   "cell_type": "code",
   "execution_count": 73,
   "metadata": {},
   "outputs": [
    {
     "data": {
      "text/html": [
       "<div>\n",
       "<style scoped>\n",
       "    .dataframe tbody tr th:only-of-type {\n",
       "        vertical-align: middle;\n",
       "    }\n",
       "\n",
       "    .dataframe tbody tr th {\n",
       "        vertical-align: top;\n",
       "    }\n",
       "\n",
       "    .dataframe thead th {\n",
       "        text-align: right;\n",
       "    }\n",
       "</style>\n",
       "<table border=\"1\" class=\"dataframe\">\n",
       "  <thead>\n",
       "    <tr style=\"text-align: right;\">\n",
       "      <th></th>\n",
       "      <th>zip</th>\n",
       "      <th>latitude</th>\n",
       "      <th>longitude</th>\n",
       "      <th>city</th>\n",
       "      <th>state</th>\n",
       "      <th>county</th>\n",
       "      <th>other_info</th>\n",
       "    </tr>\n",
       "  </thead>\n",
       "  <tbody>\n",
       "    <tr>\n",
       "      <th>0</th>\n",
       "      <td>00501</td>\n",
       "      <td>40.9223</td>\n",
       "      <td>-72.6371</td>\n",
       "      <td>Holtsville</td>\n",
       "      <td>NY</td>\n",
       "      <td>Suffolk</td>\n",
       "      <td>UNIQUE</td>\n",
       "    </tr>\n",
       "    <tr>\n",
       "      <th>1</th>\n",
       "      <td>00544</td>\n",
       "      <td>40.9223</td>\n",
       "      <td>-72.6371</td>\n",
       "      <td>Holtsville</td>\n",
       "      <td>NY</td>\n",
       "      <td>Suffolk</td>\n",
       "      <td>UNIQUE</td>\n",
       "    </tr>\n",
       "    <tr>\n",
       "      <th>2</th>\n",
       "      <td>00601</td>\n",
       "      <td>18.1653</td>\n",
       "      <td>-66.7226</td>\n",
       "      <td>Adjuntas</td>\n",
       "      <td>PR</td>\n",
       "      <td>Adjuntas</td>\n",
       "      <td>STANDARD</td>\n",
       "    </tr>\n",
       "    <tr>\n",
       "      <th>3</th>\n",
       "      <td>00602</td>\n",
       "      <td>18.3931</td>\n",
       "      <td>-67.1810</td>\n",
       "      <td>Aguada</td>\n",
       "      <td>PR</td>\n",
       "      <td>Aguada</td>\n",
       "      <td>STANDARD</td>\n",
       "    </tr>\n",
       "    <tr>\n",
       "      <th>4</th>\n",
       "      <td>00603</td>\n",
       "      <td>18.4559</td>\n",
       "      <td>-67.1457</td>\n",
       "      <td>Aguadilla</td>\n",
       "      <td>PR</td>\n",
       "      <td>Aguadilla</td>\n",
       "      <td>STANDARD</td>\n",
       "    </tr>\n",
       "  </tbody>\n",
       "</table>\n",
       "</div>"
      ],
      "text/plain": [
       "     zip  latitude  longitude        city state     county other_info\n",
       "0  00501   40.9223   -72.6371  Holtsville    NY    Suffolk     UNIQUE\n",
       "1  00544   40.9223   -72.6371  Holtsville    NY    Suffolk     UNIQUE\n",
       "2  00601   18.1653   -66.7226    Adjuntas    PR   Adjuntas   STANDARD\n",
       "3  00602   18.3931   -67.1810      Aguada    PR     Aguada   STANDARD\n",
       "4  00603   18.4559   -67.1457   Aguadilla    PR  Aguadilla   STANDARD"
      ]
     },
     "execution_count": 73,
     "metadata": {},
     "output_type": "execute_result"
    }
   ],
   "source": [
    "# import csv file into pandas\n",
    "# upload to database order (foreign key references require tables be uploaded in ths order): \n",
    "# 1: admin_projects\n",
    "# 2: issues_issue_types\n",
    "# 3: issues_issue_subtypes\n",
    "# 4: issues_issues\n",
    "# note: will be named indicating order\n",
    "\n",
    "file1 = \"data/csv/admin_projects.csv\"\n",
    "file2 = \"data/csv/issues_issue_types.csv\"\n",
    "file3 = \"data/csv/issues_issue_subtypes.csv\"\n",
    "file4 = \"data/csv/issues_issues.csv\"\n",
    "file5 = \"static/zip.csv\"\n",
    "\n",
    "csv_data1 = pd.read_csv(file1)\n",
    "csv_data2 = pd.read_csv(file2)\n",
    "csv_data3 = pd.read_csv(file3)\n",
    "csv_data4 = pd.read_csv(file4)\n",
    "csv_data5 = pd.read_csv(file5, converters={'zip': lambda x: str(x)})\n",
    "\n",
    "admin_projects_df_1 = pd.DataFrame(csv_data1)\n",
    "issues_issue_types_df_2 = pd.DataFrame(csv_data2)\n",
    "issues_issue_subtypes_df_3 = pd.DataFrame(csv_data3)\n",
    "issues_issues_df_4 = pd.DataFrame(csv_data4)\n",
    "zipcodes_as_lat_lon = pd.DataFrame(csv_data5)\n",
    "\n",
    "#confirm databases are loaded\n",
    "zipcodes_as_lat_lon.head(5)\n",
    "#admin_projects_df_1.head(5)\n",
    "#issues_issue_types_df_2.head(5)\n",
    "#issues_issue_subtypes_df_3.head(5)\n",
    "#issues_issues_df_4.head(5)\n",
    "\n",
    "\n",
    "\n"
   ]
  },
  {
   "cell_type": "code",
   "execution_count": null,
   "metadata": {},
   "outputs": [],
   "source": [
    "# Add Data Munging here"
   ]
  },
  {
   "cell_type": "code",
   "execution_count": 75,
   "metadata": {},
   "outputs": [],
   "source": [
    "clean_df_1 = admin_projects_df_1[admin_projects_df_1[\"postal_code\"].notna()]\n",
    "clean_df_1 = clean_df_1[clean_df_1[\"value\"] > 5000000]\n",
    "clean_df_1 = clean_df_1[clean_df_1[\"status\"] == \"active\"]\n",
    "clean_df_1.shape\n",
    "\n",
    "#drop unneeded rows:\n",
    "clean_df_1 = clean_df_1[['id','bim360_account_id','name','start_date','type','value','currency','status','job_number','city','state_or_province','postal_code','country','timezone','construction_type','contract_type','business_unit_id','last_sign_in','created_at']]\n",
    "issues_issue_types_df_2 = issues_issue_types_df_2[['issue_type_id','bim360_account_id','bim360_project_id','issue_type','is_active']]\n",
    "issues_issue_subtypes_df_3 = issues_issue_subtypes_df_3[['issue_subtype_id','bim360_account_id','bim360_project_id','issue_type_id','issue_subtype']]\n",
    "issues_issues_df_4 = issues_issues_df_4[['issue_id','bim360_project_id','type_id','subtype_id','status','due_date','assignee_id','root_cause_id']]\n",
    "\n",
    "\n",
    "\n",
    "\n",
    "#merge tables\n",
    "#master_df = pd.merge(clean_df_1, issues_issue_types_df_2, left_on=['id', 'bim360_account_id'], right_on=['bim360_project_id', 'bim360_account_id'], how=\"inner\")\n",
    "\n",
    "#master_df.head(5)\n"
   ]
  },
  {
   "cell_type": "code",
   "execution_count": 76,
   "metadata": {},
   "outputs": [],
   "source": [
    "rds_connection_string = \"@localhost:5432/project2\"\n",
    "\n",
    "# Important: add password here\n",
    "password = \"\"\n",
    "\n",
    "engine = create_engine(f'postgresql+psycopg2://postgres:{password}{rds_connection_string}')"
   ]
  },
  {
   "cell_type": "code",
   "execution_count": 77,
   "metadata": {},
   "outputs": [
    {
     "data": {
      "text/plain": [
       "['issues_issues',\n",
       " 'issues_issue_types',\n",
       " 'admin_projects',\n",
       " 'issues_issue_subtypes']"
      ]
     },
     "execution_count": 77,
     "metadata": {},
     "output_type": "execute_result"
    }
   ],
   "source": [
    "#confirm database connection and that the tables are present (if not, run schema sql file in database first)\n",
    "engine.table_names()"
   ]
  },
  {
   "cell_type": "code",
   "execution_count": 80,
   "metadata": {},
   "outputs": [],
   "source": [
    "#upload data in order specified in beginning\n",
    "\n",
    "\n",
    "#important note: i removed the foreign key constraints for the time being from the schema for the tables when i\n",
    "#                ran it in postgres (still in schema file though - at the bottom). Had some issues with FOREIGN\n",
    "#                KEY CONSTRAINT violations when loading data... missing keys in some tables. so it may be best\n",
    "#                to run schema without the constraints.\n",
    "\n",
    "\n",
    "#clean_df_1.to_sql(name='admin_projects', con=engine, if_exists='append', index=False)\n",
    "\n",
    "#issues_issue_types_df_2.to_sql(name='issues_issue_types', con=engine, if_exists='append', index=False)\n",
    "\n",
    "#issues_issue_subtypes_df_3.to_sql(name='issues_issue_subtypes', con=engine, if_exists='append', index=False)\n",
    "\n",
    "#issues_issues_df_4.to_sql(name='issues_issues', con=engine, if_exists='append', index=False)\n",
    "\n",
    "#zipcodes_as_lat_lon.to_sql(name='zips', con=engine, if_exists='append', index=False)"
   ]
  },
  {
   "cell_type": "code",
   "execution_count": null,
   "metadata": {},
   "outputs": [],
   "source": [
    "from sqlalchemy import Table\n",
    "from sqlalchemy.ext.compiler import compiles\n",
    "from sqlalchemy.sql.expression import Executable, ClauseElement\n",
    "\n",
    "class CreateView(Executable, ClauseElement):\n",
    "    def __init__(self, name, select):\n",
    "        self.name = name\n",
    "        self.select = select\n",
    "\n",
    "@compiles(CreateView)\n",
    "def visit_create_view(element, compiler, **kw):\n",
    "    return \"CREATE VIEW %s AS %s\" % (\n",
    "         element.name,\n",
    "         compiler.process(element.select, literal_binds=True)\n",
    "         )\n",
    "\n",
    "# test data\n",
    "from sqlalchemy import MetaData, Column, Integer\n",
    "\n",
    "\n",
    "metadata = MetaData(engine)\n",
    "t = Table('t',\n",
    "          metadata,\n",
    "          Column('id', Integer, primary_key=True),\n",
    "          Column('number', Integer))\n",
    "t.create()\n",
    "engine.execute(t.insert().values(id=1, number=3))\n",
    "engine.execute(t.insert().values(id=9, number=-3))\n",
    "\n",
    "# create view\n",
    "createview = CreateView('viewname', t.select().where(t.c.id>5))\n",
    "engine.execute(createview)\n",
    "\n",
    "# reflect view and print result\n",
    "v = Table('viewname', metadata, autoload=True)\n",
    "for r in engine.execute(v.select()):\n",
    "    print r"
   ]
  },
  {
   "cell_type": "code",
   "execution_count": 81,
   "metadata": {
    "scrolled": true
   },
   "outputs": [
    {
     "data": {
      "text/html": [
       "<div>\n",
       "<style scoped>\n",
       "    .dataframe tbody tr th:only-of-type {\n",
       "        vertical-align: middle;\n",
       "    }\n",
       "\n",
       "    .dataframe tbody tr th {\n",
       "        vertical-align: top;\n",
       "    }\n",
       "\n",
       "    .dataframe thead th {\n",
       "        text-align: right;\n",
       "    }\n",
       "</style>\n",
       "<table border=\"1\" class=\"dataframe\">\n",
       "  <thead>\n",
       "    <tr style=\"text-align: right;\">\n",
       "      <th></th>\n",
       "      <th>zip</th>\n",
       "      <th>latitude</th>\n",
       "      <th>longitude</th>\n",
       "      <th>city</th>\n",
       "      <th>state</th>\n",
       "      <th>county</th>\n",
       "      <th>other_info</th>\n",
       "    </tr>\n",
       "  </thead>\n",
       "  <tbody>\n",
       "    <tr>\n",
       "      <th>0</th>\n",
       "      <td>00501</td>\n",
       "      <td>40.9223</td>\n",
       "      <td>-72.6371</td>\n",
       "      <td>Holtsville</td>\n",
       "      <td>NY</td>\n",
       "      <td>Suffolk</td>\n",
       "      <td>UNIQUE</td>\n",
       "    </tr>\n",
       "    <tr>\n",
       "      <th>1</th>\n",
       "      <td>00544</td>\n",
       "      <td>40.9223</td>\n",
       "      <td>-72.6371</td>\n",
       "      <td>Holtsville</td>\n",
       "      <td>NY</td>\n",
       "      <td>Suffolk</td>\n",
       "      <td>UNIQUE</td>\n",
       "    </tr>\n",
       "    <tr>\n",
       "      <th>2</th>\n",
       "      <td>00601</td>\n",
       "      <td>18.1653</td>\n",
       "      <td>-66.7226</td>\n",
       "      <td>Adjuntas</td>\n",
       "      <td>PR</td>\n",
       "      <td>Adjuntas</td>\n",
       "      <td>STANDARD</td>\n",
       "    </tr>\n",
       "    <tr>\n",
       "      <th>3</th>\n",
       "      <td>00602</td>\n",
       "      <td>18.3931</td>\n",
       "      <td>-67.1810</td>\n",
       "      <td>Aguada</td>\n",
       "      <td>PR</td>\n",
       "      <td>Aguada</td>\n",
       "      <td>STANDARD</td>\n",
       "    </tr>\n",
       "    <tr>\n",
       "      <th>4</th>\n",
       "      <td>00603</td>\n",
       "      <td>18.4559</td>\n",
       "      <td>-67.1457</td>\n",
       "      <td>Aguadilla</td>\n",
       "      <td>PR</td>\n",
       "      <td>Aguadilla</td>\n",
       "      <td>STANDARD</td>\n",
       "    </tr>\n",
       "  </tbody>\n",
       "</table>\n",
       "</div>"
      ],
      "text/plain": [
       "     zip  latitude  longitude        city state     county other_info\n",
       "0  00501   40.9223   -72.6371  Holtsville    NY    Suffolk     UNIQUE\n",
       "1  00544   40.9223   -72.6371  Holtsville    NY    Suffolk     UNIQUE\n",
       "2  00601   18.1653   -66.7226    Adjuntas    PR   Adjuntas   STANDARD\n",
       "3  00602   18.3931   -67.1810      Aguada    PR     Aguada   STANDARD\n",
       "4  00603   18.4559   -67.1457   Aguadilla    PR  Aguadilla   STANDARD"
      ]
     },
     "execution_count": 81,
     "metadata": {},
     "output_type": "execute_result"
    }
   ],
   "source": [
    "#confirm data is loaded\n",
    "\n",
    "pd.read_sql_query('select * from zips', con=engine).head()"
   ]
  },
  {
   "cell_type": "code",
   "execution_count": null,
   "metadata": {},
   "outputs": [],
   "source": [
    "#export to csv file\n",
    "\n",
    "import csv\n",
    "outfile = open('projects_zip.csv', 'wb')\n",
    "outcsv = csv.writer(outfile)\n",
    "records = session.query(MyModel).all()\n",
    "[outcsv.writerow([getattr(curr, column.name) for column in MyTable.__mapper__.columns]) for curr in records]\n",
    "# or maybe use outcsv.writerows(records)\n",
    "\n",
    "outfile.close()"
   ]
  },
  {
   "cell_type": "code",
   "execution_count": 33,
   "metadata": {},
   "outputs": [
    {
     "data": {
      "text/plain": [
       "(197, 22)"
      ]
     },
     "execution_count": 33,
     "metadata": {},
     "output_type": "execute_result"
    }
   ],
   "source": [
    "clean_df_1.shape"
   ]
  }
 ],
 "metadata": {
  "kernelspec": {
   "display_name": "Python 3",
   "language": "python",
   "name": "python3"
  },
  "language_info": {
   "codemirror_mode": {
    "name": "ipython",
    "version": 3
   },
   "file_extension": ".py",
   "mimetype": "text/x-python",
   "name": "python",
   "nbconvert_exporter": "python",
   "pygments_lexer": "ipython3",
   "version": "3.6.9"
  }
 },
 "nbformat": 4,
 "nbformat_minor": 2
}
